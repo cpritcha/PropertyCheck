{
 "cells": [
  {
   "cell_type": "markdown",
   "metadata": {},
   "source": [
    "# PropertyCheck\n",
    "\n",
    "`PropertyCheck` is a library for property based testing in Julia. In property based testing you check a proposition, $p$, against set of randomly generated data. If the proposition is true for all the data generated then the test passes. If the proposition is shown false for one of the examples then the example is shrunk and the smallest example breaking the proposition is returned.\n",
    "\n",
    "The generator names in `PropertyCheck` are similar to those in Hypothesis. Generation of numbers (with `signed`, `unsigned`, `floats`), collections (with `vectors`, `dicts`, `sets`, `tuples`)."
   ]
  },
  {
   "cell_type": "markdown",
   "metadata": {},
   "source": [
    "## Examples"
   ]
  },
  {
   "cell_type": "code",
   "execution_count": 1,
   "metadata": {
    "collapsed": false
   },
   "outputs": [
    {
     "data": {
      "text/plain": [
       "PropertyCheck"
      ]
     },
     "execution_count": 1,
     "metadata": {},
     "output_type": "execute_result"
    }
   ],
   "source": [
    "import PropertyCheck\n",
    "const pc = PropertyCheck"
   ]
  },
  {
   "cell_type": "markdown",
   "metadata": {},
   "source": [
    "### Vector Append is Distributive\n",
    "\n",
    "Suppose you wanted to make sure that your append method for vectors was distributive and that length of the vector returned after appending is equal to the sum of lengths of the original vectors. You could test your append method by simulating random vectors and verifying that the distributive and length properties holds for them."
   ]
  },
  {
   "cell_type": "code",
   "execution_count": 2,
   "metadata": {
    "collapsed": false
   },
   "outputs": [
    {
     "data": {
      "text/plain": [
       "true"
      ]
     },
     "execution_count": 2,
     "metadata": {},
     "output_type": "execute_result"
    }
   ],
   "source": [
    "# method you want test\n",
    "function append(xs, ys)\n",
    "    zs = copy(xs)\n",
    "    append!(zs, ys)\n",
    "    return zs\n",
    "end\n",
    "\n",
    "# distributive test\n",
    "signeds = pc.signeds(0, 10)\n",
    "vectors = pc.vectors(signeds, signeds)\n",
    "vector_append_is_distributive(xs, ys, zs) = append(xs, append(ys, zs)) == append(append(xs, ys), zs)\n",
    "\n",
    "pc.forAll(vector_append_is_distributive, (vectors, vectors, vectors))\n",
    "\n",
    "# length preservation\n",
    "vector_length_prop(xs, ys) = length(append(xs, ys)) == length(xs) + length(ys)\n",
    "pc.forAll(vector_length_prop, (vectors, vectors))"
   ]
  },
  {
   "cell_type": "markdown",
   "metadata": {},
   "source": [
    "### Double Negation\n",
    "\n",
    "Suppose you thought the double negation rule was true for floats ($x = -(-x)$). A quick test with `PropertyCheck` would show that it is not true."
   ]
  },
  {
   "cell_type": "code",
   "execution_count": 3,
   "metadata": {
    "collapsed": false
   },
   "outputs": [
    {
     "data": {
      "text/plain": [
       "true"
      ]
     },
     "execution_count": 3,
     "metadata": {},
     "output_type": "execute_result"
    }
   ],
   "source": [
    "# property you want to test\n",
    "double_negation(x) = x == -(-x)\n",
    "\n",
    "# property\n",
    "pc.forAll(double_negation, (pc.floats(0.0, 50.0),), n=200)"
   ]
  },
  {
   "cell_type": "markdown",
   "metadata": {},
   "source": [
    "However, if `NaN` values could not occur then the identity holds"
   ]
  },
  {
   "cell_type": "code",
   "execution_count": 4,
   "metadata": {
    "collapsed": false
   },
   "outputs": [
    {
     "data": {
      "text/plain": [
       "true"
      ]
     },
     "execution_count": 4,
     "metadata": {},
     "output_type": "execute_result"
    }
   ],
   "source": [
    "pc.forAll(double_negation, \n",
    "          (pc.floats(0.0, 50.0, specialvalues=Float64[0.0, Inf, -Inf]),), \n",
    "          n=200)"
   ]
  },
  {
   "cell_type": "markdown",
   "metadata": {},
   "source": [
    "## Using with Factcheck\n",
    "\n",
    "`PropertyCheck` works with FactCheck. "
   ]
  },
  {
   "cell_type": "code",
   "execution_count": 5,
   "metadata": {
    "collapsed": false
   },
   "outputs": [
    {
     "data": {
      "text/plain": [
       "Error :: (line:-1)\n",
       "  Expression: pc.forAll(double_negation,(pc.floats(0.0,50.0),),n=200) --> true\n",
       "  Found counterexample after 12 tests, 0 shrinks:\n",
       "      \n",
       "  counterexample: (NaN,)\n",
       "  \n",
       "  \n",
       "   in forAll at /home/julia/.julia/v0.5/PropertyCheck/src/general.jl:81\n",
       "   in anonymous at /home/julia/.julia/v0.5/FactCheck/src/FactCheck.jl:271\n",
       "   in do_fact at /home/julia/.julia/v0.5/FactCheck/src/FactCheck.jl:333\n",
       "   in include_string at loading.jl:266\n",
       "   in execute_request_0x535c5df2 at /home/julia/.julia/v0.5/IJulia/src/execute_request.jl:177\n",
       "   in eventloop at /home/julia/.julia/v0.5/IJulia/src/IJulia.jl:141\n",
       "   in anonymous at task.jl:443"
      ]
     },
     "execution_count": 5,
     "metadata": {},
     "output_type": "execute_result"
    }
   ],
   "source": [
    "using FactCheck\n",
    "\n",
    "@fact pc.forAll(double_negation, (pc.floats(0.0, 50.0),), n=200) --> true"
   ]
  },
  {
   "cell_type": "markdown",
   "metadata": {},
   "source": [
    "## Using with `Base.Test` (v0.4) "
   ]
  },
  {
   "cell_type": "code",
   "execution_count": 6,
   "metadata": {
    "collapsed": false
   },
   "outputs": [
    {
     "name": "stdout",
     "output_type": "stream",
     "text": [
      "Error During Test\n",
      "  Test threw an exception of type PropertyCheck.CounterexampleError{Tuple{Float64}}\n",
      "  Expression: pc."
     ]
    },
    {
     "ename": "LoadError",
     "evalue": "LoadError: There was an error during testing\nwhile loading In[6], in expression starting on line 3",
     "output_type": "error",
     "traceback": [
      "LoadError: There was an error during testing\nwhile loading In[6], in expression starting on line 3",
      "",
      " in record at test.jl:274",
      " in do_test at test.jl:197"
     ]
    },
    {
     "name": "stdout",
     "output_type": "stream",
     "text": [
      "forAll(double_negation,(pc.floats(0.0,50.0),),n=200)\n",
      "  Found counterexample after 77 tests, 0 shrinks:\n",
      "      \n",
      "  counterexample: (NaN,)\n",
      "  \n",
      "  \n",
      "   in forAll at /home/julia/.julia/v0.5/PropertyCheck/src/general.jl:81\n",
      "   in anonymous at test.jl:170\n",
      "   in do_test at test.jl:186\n",
      "   in include_string at loading.jl:266\n",
      "   in execute_request_0x535c5df2 at /home/julia/.julia/v0.5/IJulia/src/execute_request.jl:177\n",
      "   in eventloop at /home/julia/.julia/v0.5/IJulia/src/IJulia.jl:141\n",
      "   in anonymous at task.jl:443\n"
     ]
    }
   ],
   "source": [
    "using Base.Test\n",
    "\n",
    "@test pc.forAll(double_negation, (pc.floats(0.0, 50.0),), n=200)"
   ]
  },
  {
   "cell_type": "markdown",
   "metadata": {},
   "source": [
    "## Using with `Base.Test` (v0.5)"
   ]
  },
  {
   "cell_type": "code",
   "execution_count": 7,
   "metadata": {
    "collapsed": false
   },
   "outputs": [
    {
     "name": "stdout",
     "output_type": "stream",
     "text": [
      "Test Summary:     | Pass  Total\n",
      "Append Properties |    2      2\n"
     ]
    }
   ],
   "source": [
    "@testset \"Append Properties\" begin\n",
    "    @testset \"Append is Distributive\" begin\n",
    "        @test pc.forAll(vector_append_is_distributive, (vectors, vectors, vectors))\n",
    "    end\n",
    "    @testset \"Append and Addition Commute\" begin\n",
    "        @test pc.forAll(vector_length_prop, (vectors, vectors))\n",
    "    end\n",
    "end"
   ]
  }
 ],
 "metadata": {
  "kernelspec": {
   "display_name": "Julia 0.5.0-dev",
   "language": "julia",
   "name": "julia-0.5"
  },
  "language_info": {
   "file_extension": ".jl",
   "mimetype": "application/julia",
   "name": "julia",
   "version": "0.5.0"
  }
 },
 "nbformat": 4,
 "nbformat_minor": 0
}
